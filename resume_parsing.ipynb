{
 "cells": [
  {
   "cell_type": "code",
   "execution_count": 6,
   "id": "b6df8313-b1a4-47ee-9d7b-9764996445d9",
   "metadata": {},
   "outputs": [
    {
     "name": "stdout",
     "output_type": "stream",
     "text": [
      "Collecting pdfminer\n",
      "  Downloading pdfminer-20191125.tar.gz (4.2 MB)\n",
      "     ---------------------------------------- 0.0/4.2 MB ? eta -:--:--\n",
      "     ---------------------------------------- 0.0/4.2 MB 640.0 kB/s eta 0:00:07\n",
      "     ---------------------------------------- 0.0/4.2 MB 653.6 kB/s eta 0:00:07\n",
      "      --------------------------------------- 0.1/4.2 MB 744.7 kB/s eta 0:00:06\n",
      "     - -------------------------------------- 0.1/4.2 MB 819.2 kB/s eta 0:00:05\n",
      "     - -------------------------------------- 0.1/4.2 MB 599.1 kB/s eta 0:00:07\n",
      "     -- ------------------------------------- 0.2/4.2 MB 915.1 kB/s eta 0:00:05\n",
      "     -- ------------------------------------- 0.2/4.2 MB 835.2 kB/s eta 0:00:05\n",
      "     -- ------------------------------------- 0.3/4.2 MB 747.0 kB/s eta 0:00:06\n",
      "     --- ------------------------------------ 0.3/4.2 MB 873.8 kB/s eta 0:00:05\n",
      "     --- ------------------------------------ 0.4/4.2 MB 946.4 kB/s eta 0:00:04\n",
      "     ---- ----------------------------------- 0.5/4.2 MB 1.1 MB/s eta 0:00:04\n",
      "     ----- ---------------------------------- 0.6/4.2 MB 1.1 MB/s eta 0:00:04\n",
      "     ----- ---------------------------------- 0.6/4.2 MB 1.2 MB/s eta 0:00:04\n",
      "     ------- -------------------------------- 0.7/4.2 MB 1.2 MB/s eta 0:00:03\n",
      "     ------- -------------------------------- 0.8/4.2 MB 1.2 MB/s eta 0:00:03\n",
      "     ------- -------------------------------- 0.8/4.2 MB 1.2 MB/s eta 0:00:03\n",
      "     -------- ------------------------------- 0.9/4.2 MB 1.2 MB/s eta 0:00:03\n",
      "     --------- ------------------------------ 1.0/4.2 MB 1.3 MB/s eta 0:00:03\n",
      "     ---------- ----------------------------- 1.1/4.2 MB 1.3 MB/s eta 0:00:03\n",
      "     ---------- ----------------------------- 1.1/4.2 MB 1.3 MB/s eta 0:00:03\n",
      "     ----------- ---------------------------- 1.2/4.2 MB 1.3 MB/s eta 0:00:03\n",
      "     ----------- ---------------------------- 1.2/4.2 MB 1.3 MB/s eta 0:00:03\n",
      "     ------------ --------------------------- 1.3/4.2 MB 1.3 MB/s eta 0:00:03\n",
      "     ------------ --------------------------- 1.3/4.2 MB 1.3 MB/s eta 0:00:03\n",
      "     ------------- -------------------------- 1.4/4.2 MB 1.3 MB/s eta 0:00:03\n",
      "     -------------- ------------------------- 1.5/4.2 MB 1.3 MB/s eta 0:00:03\n",
      "     --------------- ------------------------ 1.6/4.2 MB 1.4 MB/s eta 0:00:02\n",
      "     ---------------- ----------------------- 1.7/4.2 MB 1.4 MB/s eta 0:00:02\n",
      "     ----------------- ---------------------- 1.9/4.2 MB 1.4 MB/s eta 0:00:02\n",
      "     ------------------ --------------------- 2.0/4.2 MB 1.5 MB/s eta 0:00:02\n",
      "     ------------------- -------------------- 2.1/4.2 MB 1.5 MB/s eta 0:00:02\n",
      "     --------------------- ------------------ 2.2/4.2 MB 1.5 MB/s eta 0:00:02\n",
      "     ---------------------- ----------------- 2.3/4.2 MB 1.6 MB/s eta 0:00:02\n",
      "     ---------------------- ----------------- 2.4/4.2 MB 1.6 MB/s eta 0:00:02\n",
      "     ------------------------ --------------- 2.6/4.2 MB 1.7 MB/s eta 0:00:01\n",
      "     ------------------------- -------------- 2.6/4.2 MB 1.6 MB/s eta 0:00:01\n",
      "     -------------------------- ------------- 2.8/4.2 MB 1.7 MB/s eta 0:00:01\n",
      "     --------------------------- ------------ 2.9/4.2 MB 1.7 MB/s eta 0:00:01\n",
      "     ---------------------------- ----------- 3.0/4.2 MB 1.7 MB/s eta 0:00:01\n",
      "     ------------------------------ --------- 3.1/4.2 MB 1.8 MB/s eta 0:00:01\n",
      "     ------------------------------- -------- 3.3/4.2 MB 1.8 MB/s eta 0:00:01\n",
      "     -------------------------------- ------- 3.4/4.2 MB 1.8 MB/s eta 0:00:01\n",
      "     ---------------------------------- ----- 3.6/4.2 MB 1.9 MB/s eta 0:00:01\n",
      "     ---------------------------------- ----- 3.6/4.2 MB 1.9 MB/s eta 0:00:01\n",
      "     ------------------------------------ --- 3.9/4.2 MB 2.0 MB/s eta 0:00:01\n",
      "     -------------------------------------- - 4.0/4.2 MB 2.0 MB/s eta 0:00:01\n",
      "     ---------------------------------------  4.2/4.2 MB 2.1 MB/s eta 0:00:01\n",
      "     ---------------------------------------- 4.2/4.2 MB 2.0 MB/s eta 0:00:00\n",
      "  Preparing metadata (setup.py): started\n",
      "  Preparing metadata (setup.py): finished with status 'done'\n",
      "Collecting pycryptodome (from pdfminer)\n",
      "  Downloading pycryptodome-3.20.0-cp35-abi3-win_amd64.whl.metadata (3.4 kB)\n",
      "Downloading pycryptodome-3.20.0-cp35-abi3-win_amd64.whl (1.8 MB)\n",
      "   ---------------------------------------- 0.0/1.8 MB ? eta -:--:--\n",
      "   --- ------------------------------------ 0.2/1.8 MB 3.6 MB/s eta 0:00:01\n",
      "   ------ --------------------------------- 0.3/1.8 MB 4.6 MB/s eta 0:00:01\n",
      "   ---------- ----------------------------- 0.5/1.8 MB 3.1 MB/s eta 0:00:01\n",
      "   -------------- ------------------------- 0.6/1.8 MB 3.7 MB/s eta 0:00:01\n",
      "   ---------------- ----------------------- 0.7/1.8 MB 3.3 MB/s eta 0:00:01\n",
      "   ------------------ --------------------- 0.8/1.8 MB 2.9 MB/s eta 0:00:01\n",
      "   ------------------------ --------------- 1.1/1.8 MB 3.2 MB/s eta 0:00:01\n",
      "   -------------------------- ------------- 1.1/1.8 MB 3.0 MB/s eta 0:00:01\n",
      "   -------------------------------- ------- 1.4/1.8 MB 3.4 MB/s eta 0:00:01\n",
      "   ----------------------------------- ---- 1.6/1.8 MB 3.3 MB/s eta 0:00:01\n",
      "   ---------------------------------------  1.8/1.8 MB 3.4 MB/s eta 0:00:01\n",
      "   ---------------------------------------- 1.8/1.8 MB 3.4 MB/s eta 0:00:00\n",
      "Building wheels for collected packages: pdfminer\n",
      "  Building wheel for pdfminer (setup.py): started\n",
      "  Building wheel for pdfminer (setup.py): finished with status 'done'\n",
      "  Created wheel for pdfminer: filename=pdfminer-20191125-py3-none-any.whl size=6140160 sha256=d69992ac0c5a8d54e924ec77b7a96a11bd48f20a9d77307181ccb358ecae4bb7\n",
      "  Stored in directory: c:\\users\\prachi\\appdata\\local\\pip\\cache\\wheels\\56\\24\\93\\05316c6df89ff210a9a705060277e3acbfd2d1bd3a5853ee19\n",
      "Successfully built pdfminer\n",
      "Installing collected packages: pycryptodome, pdfminer\n",
      "Successfully installed pdfminer-20191125 pycryptodome-3.20.0\n",
      "Note: you may need to restart the kernel to use updated packages.\n"
     ]
    },
    {
     "name": "stderr",
     "output_type": "stream",
     "text": [
      "\n",
      "[notice] A new release of pip is available: 24.0 -> 24.1.1\n",
      "[notice] To update, run: python.exe -m pip install --upgrade pip\n"
     ]
    }
   ],
   "source": [
    "pip install pdfminer\n"
   ]
  },
  {
   "cell_type": "code",
   "execution_count": 8,
   "id": "14e4615d-658a-4db3-8c8b-ce468f695306",
   "metadata": {},
   "outputs": [
    {
     "name": "stdout",
     "output_type": "stream",
     "text": [
      "Collecting pdfminer.sixNote: you may need to restart the kernel to use updated packages.\n",
      "\n",
      "  Downloading pdfminer.six-20231228-py3-none-any.whl.metadata (4.2 kB)\n",
      "Requirement already satisfied: charset-normalizer>=2.0.0 in c:\\users\\prachi\\appdata\\local\\programs\\python\\python311\\lib\\site-packages (from pdfminer.six) (3.2.0)\n",
      "Collecting cryptography>=36.0.0 (from pdfminer.six)\n",
      "  Downloading cryptography-42.0.8-cp39-abi3-win_amd64.whl.metadata (5.4 kB)\n",
      "Requirement already satisfied: cffi>=1.12 in c:\\users\\prachi\\appdata\\local\\programs\\python\\python311\\lib\\site-packages (from cryptography>=36.0.0->pdfminer.six) (1.15.1)\n",
      "Requirement already satisfied: pycparser in c:\\users\\prachi\\appdata\\local\\programs\\python\\python311\\lib\\site-packages (from cffi>=1.12->cryptography>=36.0.0->pdfminer.six) (2.21)\n",
      "Downloading pdfminer.six-20231228-py3-none-any.whl (5.6 MB)\n",
      "   ---------------------------------------- 0.0/5.6 MB ? eta -:--:--\n",
      "   ---------------------------------------- 0.0/5.6 MB ? eta -:--:--\n",
      "    --------------------------------------- 0.1/5.6 MB 1.5 MB/s eta 0:00:04\n",
      "    --------------------------------------- 0.1/5.6 MB 1.0 MB/s eta 0:00:06\n",
      "   - -------------------------------------- 0.2/5.6 MB 1.3 MB/s eta 0:00:05\n",
      "   - -------------------------------------- 0.3/5.6 MB 1.2 MB/s eta 0:00:05\n",
      "   -- ------------------------------------- 0.3/5.6 MB 1.3 MB/s eta 0:00:05\n",
      "   --- ------------------------------------ 0.5/5.6 MB 1.3 MB/s eta 0:00:05\n",
      "   --- ------------------------------------ 0.5/5.6 MB 1.3 MB/s eta 0:00:04\n",
      "   ---- ----------------------------------- 0.6/5.6 MB 1.3 MB/s eta 0:00:04\n",
      "   ---- ----------------------------------- 0.6/5.6 MB 1.3 MB/s eta 0:00:04\n",
      "   ----- ---------------------------------- 0.7/5.6 MB 1.4 MB/s eta 0:00:04\n",
      "   ------ --------------------------------- 0.8/5.6 MB 1.5 MB/s eta 0:00:04\n",
      "   ------ --------------------------------- 0.9/5.6 MB 1.5 MB/s eta 0:00:04\n",
      "   ------- -------------------------------- 1.1/5.6 MB 1.6 MB/s eta 0:00:03\n",
      "   -------- ------------------------------- 1.2/5.6 MB 1.6 MB/s eta 0:00:03\n",
      "   -------- ------------------------------- 1.3/5.6 MB 1.7 MB/s eta 0:00:03\n",
      "   --------- ------------------------------ 1.3/5.6 MB 1.6 MB/s eta 0:00:03\n",
      "   --------- ------------------------------ 1.4/5.6 MB 1.7 MB/s eta 0:00:03\n",
      "   --------- ------------------------------ 1.4/5.6 MB 1.7 MB/s eta 0:00:03\n",
      "   ---------- ----------------------------- 1.5/5.6 MB 1.6 MB/s eta 0:00:03\n",
      "   ----------- ---------------------------- 1.6/5.6 MB 1.6 MB/s eta 0:00:03\n",
      "   ----------- ---------------------------- 1.6/5.6 MB 1.6 MB/s eta 0:00:03\n",
      "   ------------ --------------------------- 1.7/5.6 MB 1.6 MB/s eta 0:00:03\n",
      "   ------------- -------------------------- 1.8/5.6 MB 1.7 MB/s eta 0:00:03\n",
      "   ------------- -------------------------- 1.9/5.6 MB 1.7 MB/s eta 0:00:03\n",
      "   -------------- ------------------------- 2.0/5.6 MB 1.6 MB/s eta 0:00:03\n",
      "   -------------- ------------------------- 2.1/5.6 MB 1.7 MB/s eta 0:00:03\n",
      "   --------------- ------------------------ 2.2/5.6 MB 1.7 MB/s eta 0:00:03\n",
      "   ---------------- ----------------------- 2.4/5.6 MB 1.8 MB/s eta 0:00:02\n",
      "   ----------------- ---------------------- 2.5/5.6 MB 1.8 MB/s eta 0:00:02\n",
      "   ------------------ --------------------- 2.6/5.6 MB 1.8 MB/s eta 0:00:02\n",
      "   ------------------- -------------------- 2.7/5.6 MB 1.8 MB/s eta 0:00:02\n",
      "   -------------------- ------------------- 2.8/5.6 MB 1.8 MB/s eta 0:00:02\n",
      "   --------------------- ------------------ 3.0/5.6 MB 1.9 MB/s eta 0:00:02\n",
      "   --------------------- ------------------ 3.1/5.6 MB 1.9 MB/s eta 0:00:02\n",
      "   ---------------------- ----------------- 3.2/5.6 MB 1.9 MB/s eta 0:00:02\n",
      "   ------------------------ --------------- 3.4/5.6 MB 2.0 MB/s eta 0:00:02\n",
      "   ------------------------ --------------- 3.5/5.6 MB 2.0 MB/s eta 0:00:02\n",
      "   ------------------------- -------------- 3.6/5.6 MB 2.0 MB/s eta 0:00:01\n",
      "   --------------------------- ------------ 3.9/5.6 MB 2.1 MB/s eta 0:00:01\n",
      "   ---------------------------- ----------- 4.0/5.6 MB 2.1 MB/s eta 0:00:01\n",
      "   ----------------------------- ---------- 4.1/5.6 MB 2.1 MB/s eta 0:00:01\n",
      "   ------------------------------ --------- 4.3/5.6 MB 2.1 MB/s eta 0:00:01\n",
      "   ------------------------------ --------- 4.3/5.6 MB 2.1 MB/s eta 0:00:01\n",
      "   -------------------------------- ------- 4.5/5.6 MB 2.2 MB/s eta 0:00:01\n",
      "   -------------------------------- ------- 4.6/5.6 MB 2.2 MB/s eta 0:00:01\n",
      "   --------------------------------- ------ 4.7/5.6 MB 2.1 MB/s eta 0:00:01\n",
      "   ---------------------------------- ----- 4.9/5.6 MB 2.2 MB/s eta 0:00:01\n",
      "   ------------------------------------ --- 5.1/5.6 MB 2.2 MB/s eta 0:00:01\n",
      "   ------------------------------------- -- 5.3/5.6 MB 2.3 MB/s eta 0:00:01\n",
      "   ---------------------------------------  5.5/5.6 MB 2.3 MB/s eta 0:00:01\n",
      "   ---------------------------------------  5.6/5.6 MB 2.3 MB/s eta 0:00:01\n",
      "   ---------------------------------------- 5.6/5.6 MB 2.3 MB/s eta 0:00:00\n",
      "Downloading cryptography-42.0.8-cp39-abi3-win_amd64.whl (2.9 MB)\n",
      "   ---------------------------------------- 0.0/2.9 MB ? eta -:--:--\n",
      "   -- ------------------------------------- 0.2/2.9 MB 5.3 MB/s eta 0:00:01\n",
      "   ----- ---------------------------------- 0.4/2.9 MB 3.7 MB/s eta 0:00:01\n",
      "   ------- -------------------------------- 0.6/2.9 MB 3.2 MB/s eta 0:00:01\n",
      "   ----------- ---------------------------- 0.8/2.9 MB 3.6 MB/s eta 0:00:01\n",
      "   -------------- ------------------------- 1.1/2.9 MB 4.0 MB/s eta 0:00:01\n",
      "   ---------------- ----------------------- 1.2/2.9 MB 3.6 MB/s eta 0:00:01\n",
      "   ------------------- -------------------- 1.4/2.9 MB 3.7 MB/s eta 0:00:01\n",
      "   ----------------------- ---------------- 1.7/2.9 MB 4.1 MB/s eta 0:00:01\n",
      "   -------------------------- ------------- 1.9/2.9 MB 4.0 MB/s eta 0:00:01\n",
      "   ----------------------------- ---------- 2.2/2.9 MB 4.3 MB/s eta 0:00:01\n",
      "   -------------------------------- ------- 2.3/2.9 MB 4.1 MB/s eta 0:00:01\n",
      "   ----------------------------------- ---- 2.6/2.9 MB 4.2 MB/s eta 0:00:01\n",
      "   ---------------------------------------  2.8/2.9 MB 4.4 MB/s eta 0:00:01\n",
      "   ---------------------------------------- 2.9/2.9 MB 4.3 MB/s eta 0:00:00\n",
      "Installing collected packages: cryptography, pdfminer.six\n",
      "Successfully installed cryptography-42.0.8 pdfminer.six-20231228\n"
     ]
    },
    {
     "name": "stderr",
     "output_type": "stream",
     "text": [
      "\n",
      "[notice] A new release of pip is available: 24.0 -> 24.1.1\n",
      "[notice] To update, run: python.exe -m pip install --upgrade pip\n"
     ]
    }
   ],
   "source": [
    "pip install pdfminer.six"
   ]
  },
  {
   "cell_type": "code",
   "execution_count": 1,
   "id": "1f8e26d5-3a3b-4f54-82e0-d8fdebb59ee5",
   "metadata": {},
   "outputs": [
    {
     "data": {
      "text/plain": [
       "'Name: John Doe \\n\\nAddress: 123 Main Street, Cityville, State, Zip Code \\n\\nPhone: (123) 456-7890 \\n\\nEmail: johndoe@email.com \\n\\nObjective: \\n\\nDedicated and results-oriented software engineer with a passion for developing innovative solutions. \\nSeeking a challenging position in a dynamic company where I can utilize my technical skills to contribute \\nto project success and personal growth. \\n\\nSummary of Qualifications: \\n\\n- Bachelor of Science in Computer Science from XYZ University \\n\\n- Proficient in multiple programming languages including Python, Java, and C++ \\n\\n- Extensive experience with web development frameworks such as Django and React \\n\\n- Strong understanding of software development methodologies, including Agile and Scrum \\n\\n- Excellent problem-solving and analytical skills \\n\\n- Effective communication and teamwork abilities \\n\\nEducation: \\n\\n- Bachelor of Science in Computer Science \\n\\n  XYZ University, Cityville, State \\n\\n  GPA: 3.9/4.0 \\n\\nTechnical Skills: \\n\\n- Programming Languages: Python, Java, C++ \\n\\n- Web Development: Django, Flask, React, HTML, CSS, JavaScript \\n\\n- Database Management: MySQL, PostgreSQL, MongoDB \\n\\n- Version Control: Git, SVN \\n\\n- Operating Systems: Linux, Windows \\n\\n \\n \\n \\n \\n\\x0cExperience: \\n\\nSoftware Engineer | ABC Tech Solutions \\n\\n- Developed and maintained backend services for a large-scale e-commerce platform using Python and \\nDjango \\n\\n- Designed and implemented RESTful APIs to facilitate communication between different components of \\nthe system \\n\\n- Collaborated with frontend developers to integrate user interface components with backend \\nfunctionality \\n\\n- Participated in code reviews and provided constructive feedback to team members \\n\\nIntern | XYZ Software Development \\n\\n- Assisted senior developers in building and testing software applications \\n\\n- Conducted research on emerging technologies and presented findings to the development team \\n\\n- Participated in Agile scrum meetings and contributed to sprint planning and retrospective sessions \\n\\nProjects: \\n\\n- Online Bookstore Application: Developed a web-based bookstore application using Django and React, \\nallowing users to browse, search, and purchase books online. \\n\\n- Personal Blog: Created a personal blog website using Flask and MongoDB, enabling users to create, \\nedit, and delete blog posts. \\n\\nCertifications: \\n\\n- AWS Certified Solutions Architect – Associate \\n\\n- Cisco Certified Network Associate (CCNA) \\n\\nLanguages: \\n\\n- English (Native) \\n\\n- Spanish (Proficient) \\n\\n \\n \\n \\n \\n \\n\\x0c'"
      ]
     },
     "execution_count": 1,
     "metadata": {},
     "output_type": "execute_result"
    }
   ],
   "source": [
    "import re\n",
    "from pdfminer.high_level import extract_text\n",
    "\n",
    "def extract_text_from_pdf(pdf_path):\n",
    "    return extract_text(pdf_path)\n",
    "\n",
    "\n",
    "resume_path = \"info resume.pdf\"\n",
    "text = extract_text_from_pdf(resume_path)\n",
    "text"
   ]
  },
  {
   "cell_type": "code",
   "execution_count": null,
   "id": "d1e1e23c-f398-4374-b0fc-74b15f689604",
   "metadata": {},
   "outputs": [],
   "source": []
  },
  {
   "cell_type": "markdown",
   "id": "e251a2df-f257-4774-8718-1d90f5b0b22a",
   "metadata": {},
   "source": [
    "/**Extracting Contact Information**/\n",
    "Contact information, including phone numbers, email addresses, and physical addresses, is crucial for reaching out to potential candidates. Extracting this information accurately is an essential part of resume parsing. We can use regular expressions to match patterns and extract contact information."
   ]
  },
  {
   "cell_type": "markdown",
   "id": "480c8748-fa3f-48a9-a66a-76e3eaf0e30f",
   "metadata": {},
   "source": [
    "**Function to Extract**"
   ]
  },
  {
   "cell_type": "code",
   "execution_count": 2,
   "id": "a68eac1c-d4f8-48ec-909c-0e3fbe013fed",
   "metadata": {},
   "outputs": [
    {
     "data": {
      "text/plain": [
       "'123) 456-7890'"
      ]
     },
     "execution_count": 2,
     "metadata": {},
     "output_type": "execute_result"
    }
   ],
   "source": [
    "import re\n",
    "\n",
    "def extract_contact_number_from_resume(text):\n",
    "    contact_number = None\n",
    "\n",
    "    # Use regex pattern to find a potential contact number\n",
    "    pattern = r\"\\b(?:\\+?\\d{1,3}[-.\\s]?)?\\(?\\d{3}\\)?[-.\\s]?\\d{3}[-.\\s]?\\d{4}\\b\"\n",
    "    match = re.search(pattern, text)\n",
    "    if match:\n",
    "        contact_number = match.group()\n",
    "\n",
    "    return contact_number\n",
    "\n",
    "phone = extract_contact_number_from_resume(text)\n",
    "phone"
   ]
  },
  {
   "cell_type": "markdown",
   "id": "44f1d70f-5e61-4e1f-b656-154ef1b9c176",
   "metadata": {},
   "source": [
    "**Extracting Email Address**"
   ]
  },
  {
   "cell_type": "code",
   "execution_count": 3,
   "id": "8ce7d712-a54b-44ac-a741-17697db9c02c",
   "metadata": {},
   "outputs": [
    {
     "data": {
      "text/plain": [
       "'johndoe@email.com'"
      ]
     },
     "execution_count": 3,
     "metadata": {},
     "output_type": "execute_result"
    }
   ],
   "source": [
    "import re\n",
    "\n",
    "def extract_email_from_resume(text):\n",
    "    email = None\n",
    "\n",
    "    # Use regex pattern to find a potential email address\n",
    "    pattern = r\"\\b[A-Za-z0-9._%+-]+@[A-Za-z0-9.-]+\\.[A-Za-z]{2,}\\b\"\n",
    "    match = re.search(pattern, text)\n",
    "    if match:\n",
    "        email = match.group()\n",
    "\n",
    "    return email\n",
    "\n",
    "email = extract_email_from_resume(text)\n",
    "email"
   ]
  },
  {
   "cell_type": "markdown",
   "id": "aae23976-0e8e-489a-846b-8a5e33847d44",
   "metadata": {},
   "source": [
    "**Extracting Skills**"
   ]
  },
  {
   "cell_type": "code",
   "execution_count": 5,
   "id": "a28b6acb-fbb5-4689-b5d2-a9b95a0e12d0",
   "metadata": {},
   "outputs": [
    {
     "name": "stdout",
     "output_type": "stream",
     "text": [
      "Skills: ['Python', 'Communication', 'Java', 'JavaScript', 'HTML', 'CSS', 'React', 'MongoDB', 'Git', 'Research', 'Linux', 'Scrum', 'Software Development', 'Web Development', 'E-commerce', 'RESTful APIs', 'Django', 'Flask', 'MySQL', 'PostgreSQL', 'MongoDB']\n"
     ]
    }
   ],
   "source": [
    "import re\n",
    "\n",
    "def extract_skills_from_resume(text, skills_list):\n",
    "    skills = []\n",
    "\n",
    "    for skill in skills_list:\n",
    "        pattern = r\"\\b{}\\b\".format(re.escape(skill))\n",
    "        match = re.search(pattern, text, re.IGNORECASE)\n",
    "        if match:\n",
    "            skills.append(skill)\n",
    "\n",
    "    return skills\n",
    "\n",
    "\n",
    "# List of predefined skills\n",
    "skills_list = [\n",
    "    'Python', 'Data Analysis', 'Machine Learning', 'Communication', 'Project Management', 'Deep Learning', 'SQL', 'Tableau',\n",
    "    'Java', 'C++', 'JavaScript', 'HTML', 'CSS', 'React', 'Angular', 'Node.js', 'MongoDB', 'Express.js', 'Git',\n",
    "    'Research', 'Statistics', 'Quantitative Analysis', 'Qualitative Analysis', 'SPSS', 'R', 'Data Visualization', 'Matplotlib',\n",
    "    'Seaborn', 'Plotly', 'Pandas', 'Numpy', 'Scikit-learn', 'TensorFlow', 'Keras', 'PyTorch', 'NLTK', 'Text Mining',\n",
    "    'Natural Language Processing', 'Computer Vision', 'Image Processing', 'OCR', 'Speech Recognition', 'Recommendation Systems',\n",
    "    'Collaborative Filtering', 'Content-Based Filtering', 'Reinforcement Learning', 'Neural Networks', 'Convolutional Neural Networks',\n",
    "    'Recurrent Neural Networks', 'Generative Adversarial Networks', 'XGBoost', 'Random Forest', 'Decision Trees', 'Support Vector Machines',\n",
    "    'Linear Regression', 'Logistic Regression', 'K-Means Clustering', 'Hierarchical Clustering', 'DBSCAN', 'Association Rule Learning',\n",
    "    'Apache Hadoop', 'Apache Spark', 'MapReduce', 'Hive', 'HBase', 'Apache Kafka', 'Data Warehousing', 'ETL', 'Big Data Analytics',\n",
    "    'Cloud Computing', 'Amazon Web Services (AWS)', 'Microsoft Azure', 'Google Cloud Platform (GCP)', 'Docker', 'Kubernetes', 'Linux',\n",
    "    'Shell Scripting', 'Cybersecurity', 'Network Security', 'Penetration Testing', 'Firewalls', 'Encryption', 'Malware Analysis',\n",
    "    'Digital Forensics', 'CI/CD', 'DevOps', 'Agile Methodology', 'Scrum', 'Kanban', 'Continuous Integration', 'Continuous Deployment',\n",
    "    'Software Development', 'Web Development', 'Mobile Development', 'Backend Development', 'Frontend Development', 'Full-Stack Development',\n",
    "    'UI/UX Design', 'Responsive Design', 'Wireframing', 'Prototyping', 'User Testing', 'Adobe Creative Suite', 'Photoshop', 'Illustrator',\n",
    "    'InDesign', 'Figma', 'Sketch', 'Zeplin', 'InVision', 'Product Management', 'Market Research', 'Customer Development', 'Lean Startup',\n",
    "    'Business Development', 'Sales', 'Marketing', 'Content Marketing', 'Social Media Marketing', 'Email Marketing', 'SEO', 'SEM', 'PPC',\n",
    "    'Google Analytics', 'Facebook Ads', 'LinkedIn Ads', 'Lead Generation', 'Customer Relationship Management (CRM)', 'Salesforce',\n",
    "    'HubSpot', 'Zendesk', 'Intercom', 'Customer Support', 'Technical Support', 'Troubleshooting', 'Ticketing Systems', 'ServiceNow',\n",
    "    'ITIL', 'Quality Assurance', 'Manual Testing', 'Automated Testing', 'Selenium', 'JUnit', 'Load Testing', 'Performance Testing',\n",
    "    'Regression Testing', 'Black Box Testing', 'White Box Testing', 'API Testing', 'Mobile Testing', 'Usability Testing', 'Accessibility Testing',\n",
    "    'Cross-Browser Testing', 'Agile Testing', 'User Acceptance Testing', 'Software Documentation', 'Technical Writing', 'Copywriting',\n",
    "    'Editing', 'Proofreading', 'Content Management Systems (CMS)', 'WordPress', 'Joomla', 'Drupal', 'Magento', 'Shopify', 'E-commerce',\n",
    "    'Payment Gateways', 'Inventory Management', 'Supply Chain Management', 'Logistics', 'Procurement', 'ERP Systems', 'SAP', 'Oracle',\n",
    "    'Microsoft Dynamics', 'Tableau', 'Power BI', 'QlikView', 'Looker', 'Data Warehousing', 'ETL', 'Data Engineering', 'Data Governance',\n",
    "    'Data Quality', 'Master Data Management', 'Predictive Analytics', 'Prescriptive Analytics', 'Descriptive Analytics', 'Business Intelligence',\n",
    "    'Dashboarding', 'Reporting', 'Data Mining', 'Web Scraping', 'API Integration', 'RESTful APIs', 'GraphQL', 'SOAP', 'Microservices',\n",
    "    'Serverless Architecture', 'Lambda Functions', 'Event-Driven Architecture', 'Message Queues', 'GraphQL', 'Socket.io', 'WebSockets'\n",
    "'Ruby', 'Ruby on Rails', 'PHP', 'Symfony', 'Laravel', 'CakePHP', 'Zend Framework', 'ASP.NET', 'C#', 'VB.NET', 'ASP.NET MVC', 'Entity Framework',\n",
    "    'Spring', 'Hibernate', 'Struts', 'Kotlin', 'Swift', 'Objective-C', 'iOS Development', 'Android Development', 'Flutter', 'React Native', 'Ionic',\n",
    "    'Mobile UI/UX Design', 'Material Design', 'SwiftUI', 'RxJava', 'RxSwift', 'Django', 'Flask', 'FastAPI', 'Falcon', 'Tornado', 'WebSockets',\n",
    "    'GraphQL', 'RESTful Web Services', 'SOAP', 'Microservices Architecture', 'Serverless Computing', 'AWS Lambda', 'Google Cloud Functions',\n",
    "    'Azure Functions', 'Server Administration', 'System Administration', 'Network Administration', 'Database Administration', 'MySQL', 'PostgreSQL',\n",
    "    'SQLite', 'Microsoft SQL Server', 'Oracle Database', 'NoSQL', 'MongoDB', 'Cassandra', 'Redis', 'Elasticsearch', 'Firebase', 'Google Analytics',\n",
    "    'Google Tag Manager', 'Adobe Analytics', 'Marketing Automation', 'Customer Data Platforms', 'Segment', 'Salesforce Marketing Cloud', 'HubSpot CRM',\n",
    "    'Zapier', 'IFTTT', 'Workflow Automation', 'Robotic Process Automation (RPA)', 'UI Automation', 'Natural Language Generation (NLG)',\n",
    "    'Virtual Reality (VR)', 'Augmented Reality (AR)', 'Mixed Reality (MR)', 'Unity', 'Unreal Engine', '3D Modeling', 'Animation', 'Motion Graphics',\n",
    "    'Game Design', 'Game Development', 'Level Design', 'Unity3D', 'Unreal Engine 4', 'Blender', 'Maya', 'Adobe After Effects', 'Adobe Premiere Pro',\n",
    "    'Final Cut Pro', 'Video Editing', 'Audio Editing', 'Sound Design', 'Music Production', 'Digital Marketing', 'Content Strategy', 'Conversion Rate Optimization (CRO)',\n",
    "    'A/B Testing', 'Customer Experience (CX)', 'User Experience (UX)', 'User Interface (UI)', 'Persona Development', 'User Journey Mapping', 'Information Architecture (IA)',\n",
    "    'Wireframing', 'Prototyping', 'Usability Testing', 'Accessibility Compliance', 'Internationalization (I18n)', 'Localization (L10n)', 'Voice User Interface (VUI)',\n",
    "    'Chatbots', 'Natural Language Understanding (NLU)', 'Speech Synthesis', 'Emotion Detection', 'Sentiment Analysis', 'Image Recognition', 'Object Detection',\n",
    "    'Facial Recognition', 'Gesture Recognition', 'Document Recognition', 'Fraud Detection', 'Cyber Threat Intelligence', 'Security Information and Event Management (SIEM)',\n",
    "    'Vulnerability Assessment', 'Incident Response', 'Forensic Analysis', 'Security Operations Center (SOC)', 'Identity and Access Management (IAM)', 'Single Sign-On (SSO)',\n",
    "    'Multi-Factor Authentication (MFA)', 'Blockchain', 'Cryptocurrency', 'Decentralized Finance (DeFi)', 'Smart Contracts', 'Web3', 'Non-Fungible Tokens (NFTs)']\n",
    "\n",
    "extracted_skills = extract_skills_from_resume(text, skills_list)\n",
    "\n",
    "if extracted_skills:\n",
    "    print(\"Skills:\", extracted_skills)\n",
    "else:\n",
    "    print(\"No skills found\")"
   ]
  },
  {
   "cell_type": "markdown",
   "id": "d0dabef6-8486-4c59-b76a-7767e11847ee",
   "metadata": {},
   "source": [
    "**Extracting Education**"
   ]
  },
  {
   "cell_type": "code",
   "execution_count": 6,
   "id": "e1c0cc03-da1f-4d8c-8ced-2fb54fb12d5d",
   "metadata": {},
   "outputs": [
    {
     "name": "stdout",
     "output_type": "stream",
     "text": [
      "Education: ['Computer Science', 'Management', 'Education', 'software development', 'web development']\n"
     ]
    }
   ],
   "source": [
    "import re\n",
    "\n",
    "def extract_education_from_resume(text):\n",
    "    education = []\n",
    "\n",
    "    # List of education keywords to match against\n",
    "    education_keywords = [\n",
    "        'Computer Science', 'Information Technology', 'Software Engineering', 'Electrical Engineering', 'Mechanical Engineering', 'Civil Engineering',\n",
    "        'Chemical Engineering', 'Biomedical Engineering', 'Aerospace Engineering', 'Nuclear Engineering', 'Industrial Engineering', 'Systems Engineering',\n",
    "        'Environmental Engineering', 'Petroleum Engineering', 'Geological Engineering', 'Marine Engineering', 'Robotics Engineering', 'Biotechnology',\n",
    "        'Biochemistry', 'Microbiology', 'Genetics', 'Molecular Biology', 'Bioinformatics', 'Neuroscience', 'Biophysics', 'Biostatistics', 'Pharmacology',\n",
    "        'Physiology', 'Anatomy', 'Pathology', 'Immunology', 'Epidemiology', 'Public Health', 'Health Administration', 'Nursing', 'Medicine', 'Dentistry',\n",
    "        'Pharmacy', 'Veterinary Medicine', 'Medical Technology', 'Radiography', 'Physical Therapy', 'Occupational Therapy', 'Speech Therapy', 'Nutrition',\n",
    "        'Sports Science', 'Kinesiology', 'Exercise Physiology', 'Sports Medicine', 'Rehabilitation Science', 'Psychology', 'Counseling', 'Social Work',\n",
    "        'Sociology', 'Anthropology', 'Criminal Justice', 'Political Science', 'International Relations', 'Economics', 'Finance', 'Accounting', 'Business Administration',\n",
    "        'Management', 'Marketing', 'Entrepreneurship', 'Hospitality Management', 'Tourism Management', 'Supply Chain Management', 'Logistics Management',\n",
    "        'Operations Management', 'Human Resource Management', 'Organizational Behavior', 'Project Management', 'Quality Management', 'Risk Management',\n",
    "        'Strategic Management', 'Public Administration', 'Urban Planning', 'Architecture', 'Interior Design', 'Landscape Architecture', 'Fine Arts',\n",
    "        'Visual Arts', 'Graphic Design', 'Fashion Design', 'Industrial Design', 'Product Design', 'Animation', 'Film Studies', 'Media Studies',\n",
    "        'Communication Studies', 'Journalism', 'Broadcasting', 'Creative Writing', 'English Literature', 'Linguistics', 'Translation Studies',\n",
    "        'Foreign Languages', 'Modern Languages', 'Classical Studies', 'History', 'Archaeology', 'Philosophy', 'Theology', 'Religious Studies',\n",
    "        'Ethics', 'Education', 'Early Childhood Education', 'Elementary Education', 'Secondary Education', 'Special Education', 'Higher Education',\n",
    "        'Adult Education', 'Distance Education', 'Online Education', 'Instructional Design', 'Curriculum Development'\n",
    "        'Library Science', 'Information Science', 'Computer Engineering', 'Software Development', 'Cybersecurity', 'Information Security',\n",
    "        'Network Engineering', 'Data Science', 'Data Analytics', 'Business Analytics', 'Operations Research', 'Decision Sciences',\n",
    "        'Human-Computer Interaction', 'User Experience Design', 'User Interface Design', 'Digital Marketing', 'Content Strategy',\n",
    "        'Brand Management', 'Public Relations', 'Corporate Communications', 'Media Production', 'Digital Media', 'Web Development',\n",
    "        'Mobile App Development', 'Game Development', 'Virtual Reality', 'Augmented Reality', 'Blockchain Technology', 'Cryptocurrency',\n",
    "        'Digital Forensics', 'Forensic Science', 'Criminalistics', 'Crime Scene Investigation', 'Emergency Management', 'Fire Science',\n",
    "        'Environmental Science', 'Climate Science', 'Meteorology', 'Geography', 'Geomatics', 'Remote Sensing', 'Geoinformatics',\n",
    "        'Cartography', 'GIS (Geographic Information Systems)', 'Environmental Management', 'Sustainability Studies', 'Renewable Energy',\n",
    "        'Green Technology', 'Ecology', 'Conservation Biology', 'Wildlife Biology', 'Zoology']\n",
    "\n",
    "    for keyword in education_keywords:\n",
    "        pattern = r\"(?i)\\b{}\\b\".format(re.escape(keyword))\n",
    "        match = re.search(pattern, text)\n",
    "        if match:\n",
    "            education.append(match.group())\n",
    "\n",
    "    return education\n",
    "\n",
    "extracted_education = extract_education_from_resume(text)\n",
    "if extracted_education:\n",
    "    print(\"Education:\", extracted_education)\n",
    "else:\n",
    "    print(\"No education information found\")"
   ]
  },
  {
   "cell_type": "markdown",
   "id": "40a07f21-fb32-4d0e-8f2b-495bc6fd32e7",
   "metadata": {},
   "source": [
    "**Extracting Name Using spaCy**"
   ]
  },
  {
   "cell_type": "code",
   "execution_count": 7,
   "id": "176b133d-1594-4a05-939a-b88eca06d602",
   "metadata": {},
   "outputs": [
    {
     "name": "stdout",
     "output_type": "stream",
     "text": [
      "Name: John Doe\n"
     ]
    }
   ],
   "source": [
    "def extract_name_from_resume(text):\n",
    "    name = None\n",
    "\n",
    "    # Use regex pattern to find a potential name\n",
    "    pattern = r\"(\\b[A-Z][a-z]+\\b)\\s(\\b[A-Z][a-z]+\\b)\"\n",
    "    match = re.search(pattern, text)\n",
    "    if match:\n",
    "        name = match.group()\n",
    "\n",
    "    return name\n",
    "\n",
    "name = extract_name_from_resume(text)\n",
    "\n",
    "if name:\n",
    "    print(\"Name:\", name)\n",
    "else:\n",
    "    print(\"Name not found\")"
   ]
  },
  {
   "cell_type": "code",
   "execution_count": null,
   "id": "defe4917-0151-433f-bba7-676bd9317fe0",
   "metadata": {},
   "outputs": [],
   "source": []
  },
  {
   "cell_type": "code",
   "execution_count": null,
   "id": "d2a22b1e-e28e-4374-be1f-021ae67ae827",
   "metadata": {},
   "outputs": [],
   "source": []
  },
  {
   "cell_type": "code",
   "execution_count": null,
   "id": "303dbd31-a56f-4976-b25b-f3e44750eba9",
   "metadata": {},
   "outputs": [],
   "source": []
  },
  {
   "cell_type": "code",
   "execution_count": null,
   "id": "31f15b47-0fbb-4b3f-8460-3b1a75aad150",
   "metadata": {},
   "outputs": [],
   "source": []
  }
 ],
 "metadata": {
  "kernelspec": {
   "display_name": "Python 3 (ipykernel)",
   "language": "python",
   "name": "python3"
  },
  "language_info": {
   "codemirror_mode": {
    "name": "ipython",
    "version": 3
   },
   "file_extension": ".py",
   "mimetype": "text/x-python",
   "name": "python",
   "nbconvert_exporter": "python",
   "pygments_lexer": "ipython3",
   "version": "3.11.4"
  }
 },
 "nbformat": 4,
 "nbformat_minor": 5
}
