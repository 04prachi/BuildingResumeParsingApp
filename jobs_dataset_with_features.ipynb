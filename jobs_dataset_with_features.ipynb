{
 "cells": [
  {
   "cell_type": "code",
   "execution_count": 1,
   "id": "acb7b6f6-227a-4a03-add3-c6eb134f41ff",
   "metadata": {},
   "outputs": [],
   "source": [
    "import pandas as pd\n",
    "from sklearn.model_selection import train_test_split\n",
    "from sklearn.feature_extraction.text import TfidfVectorizer\n",
    "from sklearn.ensemble import RandomForestClassifier\n",
    "from sklearn.metrics import accuracy_score"
   ]
  },
  {
   "cell_type": "code",
   "execution_count": 2,
   "id": "8fe5360b-bbe3-4dd7-9a8b-dba1bcaeaa59",
   "metadata": {},
   "outputs": [],
   "source": [
    "df = pd.read_csv(\"jobs_dataset_with_features.csv\")"
   ]
  },
  {
   "cell_type": "code",
   "execution_count": 3,
   "id": "940737c4-abc6-4fb4-bd36-db0a471b45c4",
   "metadata": {},
   "outputs": [
    {
     "data": {
      "text/html": [
       "<div>\n",
       "<style scoped>\n",
       "    .dataframe tbody tr th:only-of-type {\n",
       "        vertical-align: middle;\n",
       "    }\n",
       "\n",
       "    .dataframe tbody tr th {\n",
       "        vertical-align: top;\n",
       "    }\n",
       "\n",
       "    .dataframe thead th {\n",
       "        text-align: right;\n",
       "    }\n",
       "</style>\n",
       "<table border=\"1\" class=\"dataframe\">\n",
       "  <thead>\n",
       "    <tr style=\"text-align: right;\">\n",
       "      <th></th>\n",
       "      <th>Role</th>\n",
       "      <th>Features</th>\n",
       "    </tr>\n",
       "  </thead>\n",
       "  <tbody>\n",
       "    <tr>\n",
       "      <th>0</th>\n",
       "      <td>Social Media Manager</td>\n",
       "      <td>5 to 15 Years Digital Marketing Specialist M.T...</td>\n",
       "    </tr>\n",
       "    <tr>\n",
       "      <th>1</th>\n",
       "      <td>Frontend Web Developer</td>\n",
       "      <td>2 to 12 Years Web Developer BCA HTML, CSS, Jav...</td>\n",
       "    </tr>\n",
       "    <tr>\n",
       "      <th>2</th>\n",
       "      <td>Quality Control Manager</td>\n",
       "      <td>0 to 12 Years Operations Manager PhD Quality c...</td>\n",
       "    </tr>\n",
       "    <tr>\n",
       "      <th>3</th>\n",
       "      <td>Wireless Network Engineer</td>\n",
       "      <td>4 to 11 Years Network Engineer PhD Wireless ne...</td>\n",
       "    </tr>\n",
       "    <tr>\n",
       "      <th>4</th>\n",
       "      <td>Conference Manager</td>\n",
       "      <td>1 to 12 Years Event Manager MBA Event planning...</td>\n",
       "    </tr>\n",
       "  </tbody>\n",
       "</table>\n",
       "</div>"
      ],
      "text/plain": [
       "                        Role  \\\n",
       "0       Social Media Manager   \n",
       "1     Frontend Web Developer   \n",
       "2    Quality Control Manager   \n",
       "3  Wireless Network Engineer   \n",
       "4         Conference Manager   \n",
       "\n",
       "                                            Features  \n",
       "0  5 to 15 Years Digital Marketing Specialist M.T...  \n",
       "1  2 to 12 Years Web Developer BCA HTML, CSS, Jav...  \n",
       "2  0 to 12 Years Operations Manager PhD Quality c...  \n",
       "3  4 to 11 Years Network Engineer PhD Wireless ne...  \n",
       "4  1 to 12 Years Event Manager MBA Event planning...  "
      ]
     },
     "execution_count": 3,
     "metadata": {},
     "output_type": "execute_result"
    }
   ],
   "source": [
    "df.head()"
   ]
  },
  {
   "cell_type": "code",
   "execution_count": 4,
   "id": "c1aec08a-f44f-4f8d-8620-393e6f1958c6",
   "metadata": {},
   "outputs": [
    {
     "data": {
      "text/plain": [
       "(1615940, 2)"
      ]
     },
     "execution_count": 4,
     "metadata": {},
     "output_type": "execute_result"
    }
   ],
   "source": [
    "df.shape"
   ]
  },
  {
   "cell_type": "code",
   "execution_count": 5,
   "id": "552926e7-7726-4608-9849-623ff3727c71",
   "metadata": {},
   "outputs": [
    {
     "data": {
      "text/plain": [
       "Role\n",
       "Interaction Designer            20580\n",
       "Network Administrator           17470\n",
       "User Interface Designer         14036\n",
       "Social Media Manager            13945\n",
       "User Experience Designer        13935\n",
       "                                ...  \n",
       "Inventory Control Specialist     3342\n",
       "Budget Analyst                   3335\n",
       "Clinical Nurse Manager           3324\n",
       "Social Science Researcher        3321\n",
       "Paid Advertising Specialist      3306\n",
       "Name: count, Length: 376, dtype: int64"
      ]
     },
     "execution_count": 5,
     "metadata": {},
     "output_type": "execute_result"
    }
   ],
   "source": [
    "df['Role'].value_counts()"
   ]
  },
  {
   "cell_type": "code",
   "execution_count": 6,
   "id": "4bec2bd3-f417-498f-8dd3-8f0a097eb34c",
   "metadata": {},
   "outputs": [
    {
     "data": {
      "text/plain": [
       "376"
      ]
     },
     "execution_count": 6,
     "metadata": {},
     "output_type": "execute_result"
    }
   ],
   "source": [
    "len(df['Role'].value_counts())"
   ]
  },
  {
   "cell_type": "code",
   "execution_count": 7,
   "id": "4c6d0fb4-17b1-4a06-97ab-e37579a163ea",
   "metadata": {},
   "outputs": [
    {
     "data": {
      "text/plain": [
       "Role\n",
       "Interaction Designer          20580\n",
       "Network Administrator         17470\n",
       "User Interface Designer       14036\n",
       "Social Media Manager          13945\n",
       "User Experience Designer      13935\n",
       "                              ...  \n",
       "Benefits Coordinator           6839\n",
       "Research Analyst               6830\n",
       "Administrative Coordinator     6803\n",
       "IT Support Specialist          6799\n",
       "UI/UX Designer                 6743\n",
       "Name: count, Length: 61, dtype: int64"
      ]
     },
     "execution_count": 7,
     "metadata": {},
     "output_type": "execute_result"
    }
   ],
   "source": [
    "# Dropping classes with less than 6500 instances\n",
    "min_count = 6500\n",
    "role_counts = df['Role'].value_counts()\n",
    "dropped_classes = role_counts[role_counts < min_count].index\n",
    "filtered_df = df[~df['Role'].isin(dropped_classes)].reset_index(drop=True)\n",
    "\n",
    "# Checking the updated role counts\n",
    "filtered_df['Role'].value_counts()"
   ]
  },
  {
   "cell_type": "code",
   "execution_count": 9,
   "id": "a26953f9-a5b8-472f-9e98-ce76800e091e",
   "metadata": {},
   "outputs": [
    {
     "data": {
      "text/plain": [
       "61"
      ]
     },
     "execution_count": 9,
     "metadata": {},
     "output_type": "execute_result"
    }
   ],
   "source": [
    "len(filtered_df['Role'].value_counts())"
   ]
  },
  {
   "cell_type": "code",
   "execution_count": 11,
   "id": "955f00a5-d9fd-4f61-a793-c2b573e03471",
   "metadata": {},
   "outputs": [],
   "source": [
    "# as our dataset is too big but we are using only 10k resumes\n",
    "df = filtered_df.sample(n=10000)"
   ]
  },
  {
   "cell_type": "code",
   "execution_count": 12,
   "id": "f5b10d8c-6457-4376-8184-a007f861543a",
   "metadata": {},
   "outputs": [
    {
     "data": {
      "text/html": [
       "<div>\n",
       "<style scoped>\n",
       "    .dataframe tbody tr th:only-of-type {\n",
       "        vertical-align: middle;\n",
       "    }\n",
       "\n",
       "    .dataframe tbody tr th {\n",
       "        vertical-align: top;\n",
       "    }\n",
       "\n",
       "    .dataframe thead th {\n",
       "        text-align: right;\n",
       "    }\n",
       "</style>\n",
       "<table border=\"1\" class=\"dataframe\">\n",
       "  <thead>\n",
       "    <tr style=\"text-align: right;\">\n",
       "      <th></th>\n",
       "      <th>Role</th>\n",
       "      <th>Features</th>\n",
       "    </tr>\n",
       "  </thead>\n",
       "  <tbody>\n",
       "    <tr>\n",
       "      <th>285440</th>\n",
       "      <td>Content Creator</td>\n",
       "      <td>2 to 15 Years Social Media Coordinator B.Com C...</td>\n",
       "    </tr>\n",
       "    <tr>\n",
       "      <th>33177</th>\n",
       "      <td>Network Administrator</td>\n",
       "      <td>4 to 13 Years Network Engineer M.Com Network m...</td>\n",
       "    </tr>\n",
       "    <tr>\n",
       "      <th>436073</th>\n",
       "      <td>IT Support Specialist</td>\n",
       "      <td>1 to 10 Years Systems Administrator BBA Techni...</td>\n",
       "    </tr>\n",
       "    <tr>\n",
       "      <th>35387</th>\n",
       "      <td>User Experience Designer</td>\n",
       "      <td>1 to 9 Years UX/UI Designer MCA User-centered ...</td>\n",
       "    </tr>\n",
       "    <tr>\n",
       "      <th>306847</th>\n",
       "      <td>User Interface Designer</td>\n",
       "      <td>4 to 11 Years UX/UI Designer BA UI design prin...</td>\n",
       "    </tr>\n",
       "  </tbody>\n",
       "</table>\n",
       "</div>"
      ],
      "text/plain": [
       "                            Role  \\\n",
       "285440           Content Creator   \n",
       "33177      Network Administrator   \n",
       "436073     IT Support Specialist   \n",
       "35387   User Experience Designer   \n",
       "306847   User Interface Designer   \n",
       "\n",
       "                                                 Features  \n",
       "285440  2 to 15 Years Social Media Coordinator B.Com C...  \n",
       "33177   4 to 13 Years Network Engineer M.Com Network m...  \n",
       "436073  1 to 10 Years Systems Administrator BBA Techni...  \n",
       "35387   1 to 9 Years UX/UI Designer MCA User-centered ...  \n",
       "306847  4 to 11 Years UX/UI Designer BA UI design prin...  "
      ]
     },
     "execution_count": 12,
     "metadata": {},
     "output_type": "execute_result"
    }
   ],
   "source": [
    "df.head()"
   ]
  },
  {
   "cell_type": "markdown",
   "id": "2809ae1d-f214-43b1-9d01-b74c9135e77c",
   "metadata": {},
   "source": [
    "**SPLITTING THE DATA INTO TRAINING AND TESTING**"
   ]
  },
  {
   "cell_type": "code",
   "execution_count": 13,
   "id": "9bb4fd04-a11b-434a-acae-dcd81d69c063",
   "metadata": {},
   "outputs": [
    {
     "name": "stdout",
     "output_type": "stream",
     "text": [
      "(1292752,)\n",
      "(323188,)\n"
     ]
    }
   ],
   "source": [
    "# Splitting the data into features (X) and target (y)\n",
    "X = df['Features']\n",
    "y = df['Role']\n",
    "\n",
    "# Train-test split\n",
    "X_train, X_test, y_train, y_test = train_test_split(X, y, test_size=0.2, random_state=42)\n",
    "print(X_train.shape)\n",
    "print(X_test.shape)"
   ]
  },
  {
   "cell_type": "markdown",
   "id": "b3c06c87-8796-48fe-b6d4-9313c43f59cd",
   "metadata": {},
   "source": [
    "**ENCODING(TFIDF-VECTORIZER for job recommendation)**"
   ]
  },
  {
   "cell_type": "code",
   "execution_count": 14,
   "id": "edbf4004-7710-4b22-9561-ce6f5191121f",
   "metadata": {},
   "outputs": [],
   "source": [
    "# TF-IDF vectorization\n",
    "tfidf_vectorizer = TfidfVectorizer()\n",
    "X_train_tfidf = tfidf_vectorizer.fit_transform(X_train)\n",
    "X_test_tfidf = tfidf_vectorizer.transform(X_test)"
   ]
  },
  {
   "cell_type": "markdown",
   "id": "1c0767a9-b80c-434b-89eb-ed71d77f9462",
   "metadata": {},
   "source": [
    "**ENSEMBLE**"
   ]
  },
  {
   "cell_type": "code",
   "execution_count": 15,
   "id": "776b82a2-78b5-4bdc-804b-f540795ae47b",
   "metadata": {},
   "outputs": [],
   "source": [
    "# RandomForestClassifier\n",
    "rf_classifier = RandomForestClassifier()\n",
    "rf_classifier.fit(X_train_tfidf, y_train)\n",
    "\n",
    "# Predictions\n",
    "y_pred = rf_classifier.predict(X_test_tfidf)"
   ]
  },
  {
   "cell_type": "code",
   "execution_count": 16,
   "id": "2df4aac7-113f-4d27-88e8-5b619453254c",
   "metadata": {},
   "outputs": [
    {
     "name": "stdout",
     "output_type": "stream",
     "text": [
      "Accuracy: 1.0\n"
     ]
    }
   ],
   "source": [
    "# Accuracy\n",
    "accuracy = accuracy_score(y_test, y_pred)\n",
    "print(\"Accuracy:\", accuracy)"
   ]
  },
  {
   "cell_type": "markdown",
   "id": "4f35635d-daa6-49fa-b14e-bdaf66d90e03",
   "metadata": {},
   "source": [
    "**RECOMMENDATION**"
   ]
  },
  {
   "cell_type": "code",
   "execution_count": 17,
   "id": "66477b11-e7a3-44a6-ae19-8a8cf2637da8",
   "metadata": {},
   "outputs": [],
   "source": [
    "# Clean resume text\n",
    "import re\n",
    "def cleanResume(txt):\n",
    "    cleanText = re.sub('http\\S+\\s', ' ', txt)\n",
    "    cleanText = re.sub('RT|cc', ' ', cleanText)\n",
    "    cleanText = re.sub('#\\S+\\s', ' ', cleanText)\n",
    "    cleanText = re.sub('@\\S+', '  ', cleanText)  \n",
    "    cleanText = re.sub('[%s]' % re.escape(\"\"\"!\"#$%&'()*+,-./:;<=>?@[\\]^_`{|}~\"\"\"), ' ', cleanText)\n",
    "    cleanText = re.sub(r'[^\\x00-\\x7f]', ' ', cleanText) \n",
    "    cleanText = re.sub('\\s+', ' ', cleanText)\n",
    "    return cleanText\n",
    "\n",
    "\n",
    "# Prediction and Category Name\n",
    "def job_recommendation(resume_text):\n",
    "    resume_text= cleanResume(resume_text)\n",
    "    resume_tfidf = tfidf_vectorizer.transform([resume_text])\n",
    "    predicted_category = rf_classifier.predict(resume_tfidf)[0]\n",
    "    return predicted_category\n"
   ]
  },
  {
   "cell_type": "code",
   "execution_count": 18,
   "id": "40c4d6ce-368f-47f1-a40e-6030a8ba624d",
   "metadata": {},
   "outputs": [
    {
     "name": "stdout",
     "output_type": "stream",
     "text": [
      "Predicted Category: Financial Analyst\n"
     ]
    }
   ],
   "source": [
    "# Example Usage\n",
    "resume_file = \"\"\"Objective:\n",
    "Dedicated and results-oriented Banking professional with a strong background in financial analysis and customer service seeking opportunities to contribute to a reputable financial institution. Eager to leverage expertise in risk management, investment strategies, and relationship building to drive business growth and client satisfaction.\n",
    "\n",
    "Education:\n",
    "- Bachelor of Business Administration in Finance, XYZ University, GPA: 3.8/4.0\n",
    "- Certified Financial Analyst (CFA) Level I Candidate\n",
    "\n",
    "Skills:\n",
    "- Proficient in financial modeling and analysis using Excel, Bloomberg Terminal, and other financial software\n",
    "- Extensive knowledge of banking products and services, including loans, mortgages, and investment products\n",
    "- Strong understanding of regulatory compliance and risk management practices in the banking industry\n",
    "- Excellent communication and interpersonal skills, with a focus on building rapport with clients and colleagues\n",
    "- Ability to work efficiently under pressure and adapt to changing market conditions\n",
    "\n",
    "Experience:\n",
    "Financial Analyst | ABC Bank\n",
    "- Conducted financial analysis and risk assessment for corporate clients, including credit analysis, financial statement analysis, and cash flow modeling\n",
    "- Developed customized financial solutions to meet clients' needs and objectives, resulting in increased revenue and client retention\n",
    "- Collaborated with cross-functional teams to identify new business opportunities and optimize existing processes\n",
    "\n",
    "Customer Service Representative | DEF Bank\n",
    "- Provided exceptional customer service to bank clients, addressing inquiries, resolving issues, and promoting banking products and services\n",
    "- Processed transactions accurately and efficiently, including deposits, withdrawals, and account transfers\n",
    "- Educated customers on various banking products and services, helping them make informed financial decisions\n",
    "\n",
    "Internship | GHI Investments\n",
    "- Assisted portfolio managers with investment research and analysis, including industry and company-specific research, financial modeling, and performance analysis\n",
    "- Prepared investment presentations and reports for clients, highlighting investment opportunities and performance metrics\n",
    "- Conducted market research and analysis to identify trends and opportunities in the financial markets\n",
    "\n",
    "Certifications:\n",
    "- Certified Financial Planner (CFP)\n",
    "- Series 7 and Series 63 Securities Licenses\n",
    "\n",
    "Languages:\n",
    "- English (Native)\n",
    "- Spanish (Proficient)\n",
    "\n",
    "\"\"\"\n",
    "predicted_category = job_recommendation(resume_file)\n",
    "print(\"Predicted Category:\", predicted_category)"
   ]
  },
  {
   "cell_type": "code",
   "execution_count": 19,
   "id": "467c627a-4701-489d-8d83-241d292adde8",
   "metadata": {},
   "outputs": [],
   "source": [
    "import pickle\n",
    "pickle.dump(rf_classifier,open('models/rf_classifier_job_recommendation.pkl','wb'))\n",
    "pickle.dump(tfidf_vectorizer,open('models/tfidf_vectorizer_job_recommendation.pkl','wb'))\n"
   ]
  },
  {
   "cell_type": "code",
   "execution_count": null,
   "id": "26efc1c9-e4a0-447b-bdac-2baf30bf0e22",
   "metadata": {},
   "outputs": [],
   "source": []
  }
 ],
 "metadata": {
  "kernelspec": {
   "display_name": "Python 3 (ipykernel)",
   "language": "python",
   "name": "python3"
  },
  "language_info": {
   "codemirror_mode": {
    "name": "ipython",
    "version": 3
   },
   "file_extension": ".py",
   "mimetype": "text/x-python",
   "name": "python",
   "nbconvert_exporter": "python",
   "pygments_lexer": "ipython3",
   "version": "3.11.4"
  }
 },
 "nbformat": 4,
 "nbformat_minor": 5
}
